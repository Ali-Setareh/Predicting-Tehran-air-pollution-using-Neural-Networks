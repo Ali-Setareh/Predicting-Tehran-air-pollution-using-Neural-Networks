{
 "metadata": {
  "language_info": {
   "codemirror_mode": {
    "name": "ipython",
    "version": 3
   },
   "file_extension": ".py",
   "mimetype": "text/x-python",
   "name": "python",
   "nbconvert_exporter": "python",
   "pygments_lexer": "ipython3",
   "version": "3.9.5"
  },
  "orig_nbformat": 4,
  "kernelspec": {
   "name": "python3",
   "display_name": "Python 3.9.5 64-bit"
  },
  "interpreter": {
   "hash": "90c080f5da3972fac13cd5f4218f2d2b824dedc2c5018ec465e96fffa5e0d98c"
  }
 },
 "nbformat": 4,
 "nbformat_minor": 2,
 "cells": [
  {
   "cell_type": "code",
   "execution_count": 15,
   "metadata": {},
   "outputs": [],
   "source": [
    "import pandas as pd \n",
    "import numpy as np \n",
    "from os import listdir"
   ]
  },
  {
   "cell_type": "code",
   "execution_count": 2,
   "metadata": {},
   "outputs": [],
   "source": [
    "pm = pd.read_csv('pm_10.csv',parse_dates = True, index_col = 0)"
   ]
  },
  {
   "cell_type": "code",
   "execution_count": 24,
   "metadata": {},
   "outputs": [
    {
     "output_type": "execute_result",
     "data": {
      "text/plain": [
       "(100056, 11)"
      ]
     },
     "metadata": {},
     "execution_count": 24
    }
   ],
   "source": [
    "dfs=[]\n",
    "for year in range(2010,2022):\n",
    "    dfs.append(pd.read_csv('weather-h/%s-h.csv'%year,index_col=0))\n",
    "meta=pd.concat(dfs,ignore_index=True)\n",
    "meta.shape"
   ]
  },
  {
   "cell_type": "code",
   "execution_count": 27,
   "metadata": {},
   "outputs": [],
   "source": [
    "meta.date = pd.to_timedelta(meta['hour'], unit='H') + pd.to_datetime(meta['date'])\n",
    "meta = meta.set_index('date')\n",
    "idx = pd.date_range(meta.index[0], '2021-06-1',freq='h')[:-1]\n",
    "meta = meta.reindex(idx, fill_value=np.nan)\n",
    "meta.drop('hour',inplace=True,axis=1)"
   ]
  },
  {
   "source": [
    "# pm_10"
   ],
   "cell_type": "markdown",
   "metadata": {}
  },
  {
   "cell_type": "code",
   "execution_count": 35,
   "metadata": {},
   "outputs": [],
   "source": [
    "mega = pd.concat([pm,meta.loc[pm.index]],axis=1)"
   ]
  },
  {
   "cell_type": "code",
   "execution_count": 37,
   "metadata": {},
   "outputs": [],
   "source": [
    "mega.to_csv('pm_10.csv',date_format='%Y-%m-%d %H:%M:%S')"
   ]
  },
  {
   "cell_type": "code",
   "execution_count": 39,
   "metadata": {},
   "outputs": [
    {
     "output_type": "execute_result",
     "data": {
      "text/plain": [
       "                         station  PM 10 ug/m3  tempC  windspeedKmph  \\\n",
       "2017-01-01 00:00:00  شریف.منطقه2        159.0      3              5   \n",
       "2017-01-01 01:00:00  شریف.منطقه2        210.0      3              4   \n",
       "2017-01-01 02:00:00  شریف.منطقه2        197.0      3              4   \n",
       "2017-01-01 03:00:00  شریف.منطقه2        179.0      3              3   \n",
       "2017-01-01 04:00:00  شریف.منطقه2        144.0      3              3   \n",
       "...                          ...          ...    ...            ...   \n",
       "2021-05-31 19:00:00  شریف.منطقه2         43.0     29             11   \n",
       "2021-05-31 20:00:00  شریف.منطقه2         32.0     28              9   \n",
       "2021-05-31 21:00:00  شریف.منطقه2         29.0     26              8   \n",
       "2021-05-31 22:00:00  شریف.منطقه2         45.0     27              8   \n",
       "2021-05-31 23:00:00  شریف.منطقه2         35.0     29              8   \n",
       "\n",
       "                     winddirDegree  humidity  pressure  cloudcover  precipMM  \\\n",
       "2017-01-01 00:00:00             49        62      1020          10       0.0   \n",
       "2017-01-01 01:00:00             47        64      1019          13       0.0   \n",
       "2017-01-01 02:00:00             45        65      1019          16       0.0   \n",
       "2017-01-01 03:00:00             43        67      1018          19       0.0   \n",
       "2017-01-01 04:00:00             46        69      1018          23       0.0   \n",
       "...                            ...       ...       ...         ...       ...   \n",
       "2021-05-31 19:00:00            301         7      1007           0       0.0   \n",
       "2021-05-31 20:00:00            318         7      1007           0       0.0   \n",
       "2021-05-31 21:00:00            334         8      1007           0       0.0   \n",
       "2021-05-31 22:00:00            335         9      1007           0       0.0   \n",
       "2021-05-31 23:00:00            335        10      1007           0       0.0   \n",
       "\n",
       "                     uvIndex  DewPointC  \n",
       "2017-01-01 00:00:00        1         -4  \n",
       "2017-01-01 01:00:00        1         -3  \n",
       "2017-01-01 02:00:00        1         -3  \n",
       "2017-01-01 03:00:00        1         -3  \n",
       "2017-01-01 04:00:00        1         -3  \n",
       "...                      ...        ...  \n",
       "2021-05-31 19:00:00        1         -7  \n",
       "2021-05-31 20:00:00        1         -7  \n",
       "2021-05-31 21:00:00        1         -6  \n",
       "2021-05-31 22:00:00        1         -5  \n",
       "2021-05-31 23:00:00        1         -4  \n",
       "\n",
       "[38687 rows x 11 columns]"
      ],
      "text/html": "<div>\n<style scoped>\n    .dataframe tbody tr th:only-of-type {\n        vertical-align: middle;\n    }\n\n    .dataframe tbody tr th {\n        vertical-align: top;\n    }\n\n    .dataframe thead th {\n        text-align: right;\n    }\n</style>\n<table border=\"1\" class=\"dataframe\">\n  <thead>\n    <tr style=\"text-align: right;\">\n      <th></th>\n      <th>station</th>\n      <th>PM 10 ug/m3</th>\n      <th>tempC</th>\n      <th>windspeedKmph</th>\n      <th>winddirDegree</th>\n      <th>humidity</th>\n      <th>pressure</th>\n      <th>cloudcover</th>\n      <th>precipMM</th>\n      <th>uvIndex</th>\n      <th>DewPointC</th>\n    </tr>\n  </thead>\n  <tbody>\n    <tr>\n      <th>2017-01-01 00:00:00</th>\n      <td>شریف.منطقه2</td>\n      <td>159.0</td>\n      <td>3</td>\n      <td>5</td>\n      <td>49</td>\n      <td>62</td>\n      <td>1020</td>\n      <td>10</td>\n      <td>0.0</td>\n      <td>1</td>\n      <td>-4</td>\n    </tr>\n    <tr>\n      <th>2017-01-01 01:00:00</th>\n      <td>شریف.منطقه2</td>\n      <td>210.0</td>\n      <td>3</td>\n      <td>4</td>\n      <td>47</td>\n      <td>64</td>\n      <td>1019</td>\n      <td>13</td>\n      <td>0.0</td>\n      <td>1</td>\n      <td>-3</td>\n    </tr>\n    <tr>\n      <th>2017-01-01 02:00:00</th>\n      <td>شریف.منطقه2</td>\n      <td>197.0</td>\n      <td>3</td>\n      <td>4</td>\n      <td>45</td>\n      <td>65</td>\n      <td>1019</td>\n      <td>16</td>\n      <td>0.0</td>\n      <td>1</td>\n      <td>-3</td>\n    </tr>\n    <tr>\n      <th>2017-01-01 03:00:00</th>\n      <td>شریف.منطقه2</td>\n      <td>179.0</td>\n      <td>3</td>\n      <td>3</td>\n      <td>43</td>\n      <td>67</td>\n      <td>1018</td>\n      <td>19</td>\n      <td>0.0</td>\n      <td>1</td>\n      <td>-3</td>\n    </tr>\n    <tr>\n      <th>2017-01-01 04:00:00</th>\n      <td>شریف.منطقه2</td>\n      <td>144.0</td>\n      <td>3</td>\n      <td>3</td>\n      <td>46</td>\n      <td>69</td>\n      <td>1018</td>\n      <td>23</td>\n      <td>0.0</td>\n      <td>1</td>\n      <td>-3</td>\n    </tr>\n    <tr>\n      <th>...</th>\n      <td>...</td>\n      <td>...</td>\n      <td>...</td>\n      <td>...</td>\n      <td>...</td>\n      <td>...</td>\n      <td>...</td>\n      <td>...</td>\n      <td>...</td>\n      <td>...</td>\n      <td>...</td>\n    </tr>\n    <tr>\n      <th>2021-05-31 19:00:00</th>\n      <td>شریف.منطقه2</td>\n      <td>43.0</td>\n      <td>29</td>\n      <td>11</td>\n      <td>301</td>\n      <td>7</td>\n      <td>1007</td>\n      <td>0</td>\n      <td>0.0</td>\n      <td>1</td>\n      <td>-7</td>\n    </tr>\n    <tr>\n      <th>2021-05-31 20:00:00</th>\n      <td>شریف.منطقه2</td>\n      <td>32.0</td>\n      <td>28</td>\n      <td>9</td>\n      <td>318</td>\n      <td>7</td>\n      <td>1007</td>\n      <td>0</td>\n      <td>0.0</td>\n      <td>1</td>\n      <td>-7</td>\n    </tr>\n    <tr>\n      <th>2021-05-31 21:00:00</th>\n      <td>شریف.منطقه2</td>\n      <td>29.0</td>\n      <td>26</td>\n      <td>8</td>\n      <td>334</td>\n      <td>8</td>\n      <td>1007</td>\n      <td>0</td>\n      <td>0.0</td>\n      <td>1</td>\n      <td>-6</td>\n    </tr>\n    <tr>\n      <th>2021-05-31 22:00:00</th>\n      <td>شریف.منطقه2</td>\n      <td>45.0</td>\n      <td>27</td>\n      <td>8</td>\n      <td>335</td>\n      <td>9</td>\n      <td>1007</td>\n      <td>0</td>\n      <td>0.0</td>\n      <td>1</td>\n      <td>-5</td>\n    </tr>\n    <tr>\n      <th>2021-05-31 23:00:00</th>\n      <td>شریف.منطقه2</td>\n      <td>35.0</td>\n      <td>29</td>\n      <td>8</td>\n      <td>335</td>\n      <td>10</td>\n      <td>1007</td>\n      <td>0</td>\n      <td>0.0</td>\n      <td>1</td>\n      <td>-4</td>\n    </tr>\n  </tbody>\n</table>\n<p>38687 rows × 11 columns</p>\n</div>"
     },
     "metadata": {},
     "execution_count": 39
    }
   ],
   "source": [
    "pd.read_csv('pm_10.csv',index_col=0)"
   ]
  },
  {
   "source": [
    "# pm_2.5"
   ],
   "cell_type": "markdown",
   "metadata": {}
  },
  {
   "cell_type": "code",
   "execution_count": 40,
   "metadata": {},
   "outputs": [],
   "source": [
    "pm = pd.read_csv('pm_25.csv',parse_dates = True, index_col = 0)"
   ]
  },
  {
   "cell_type": "code",
   "execution_count": 41,
   "metadata": {},
   "outputs": [],
   "source": [
    "mega = pd.concat([pm,meta.loc[pm.index]],axis=1)\n",
    "mega.to_csv('pm_25.csv',date_format='%Y-%m-%d %H:%M:%S')"
   ]
  },
  {
   "cell_type": "code",
   "execution_count": 42,
   "metadata": {},
   "outputs": [
    {
     "output_type": "execute_result",
     "data": {
      "text/plain": [
       "                        station  PM 2.5 ug/m3  tempC  windspeedKmph  \\\n",
       "2017-01-01 00:00:00  صدر.منطقه3         103.0      3              5   \n",
       "2017-01-01 01:00:00  صدر.منطقه3          88.0      3              4   \n",
       "2017-01-01 02:00:00  صدر.منطقه3          77.0      3              4   \n",
       "2017-01-01 03:00:00  صدر.منطقه3          68.0      3              3   \n",
       "2017-01-01 04:00:00  صدر.منطقه3          68.0      3              3   \n",
       "...                         ...           ...    ...            ...   \n",
       "2021-05-31 19:00:00  صدر.منطقه3           7.0     29             11   \n",
       "2021-05-31 20:00:00  صدر.منطقه3           7.0     28              9   \n",
       "2021-05-31 21:00:00  صدر.منطقه3           7.0     26              8   \n",
       "2021-05-31 22:00:00  صدر.منطقه3           7.0     27              8   \n",
       "2021-05-31 23:00:00  صدر.منطقه3          21.0     29              8   \n",
       "\n",
       "                     winddirDegree  humidity  pressure  cloudcover  precipMM  \\\n",
       "2017-01-01 00:00:00             49        62      1020          10       0.0   \n",
       "2017-01-01 01:00:00             47        64      1019          13       0.0   \n",
       "2017-01-01 02:00:00             45        65      1019          16       0.0   \n",
       "2017-01-01 03:00:00             43        67      1018          19       0.0   \n",
       "2017-01-01 04:00:00             46        69      1018          23       0.0   \n",
       "...                            ...       ...       ...         ...       ...   \n",
       "2021-05-31 19:00:00            301         7      1007           0       0.0   \n",
       "2021-05-31 20:00:00            318         7      1007           0       0.0   \n",
       "2021-05-31 21:00:00            334         8      1007           0       0.0   \n",
       "2021-05-31 22:00:00            335         9      1007           0       0.0   \n",
       "2021-05-31 23:00:00            335        10      1007           0       0.0   \n",
       "\n",
       "                     uvIndex  DewPointC  \n",
       "2017-01-01 00:00:00        1         -4  \n",
       "2017-01-01 01:00:00        1         -3  \n",
       "2017-01-01 02:00:00        1         -3  \n",
       "2017-01-01 03:00:00        1         -3  \n",
       "2017-01-01 04:00:00        1         -3  \n",
       "...                      ...        ...  \n",
       "2021-05-31 19:00:00        1         -7  \n",
       "2021-05-31 20:00:00        1         -7  \n",
       "2021-05-31 21:00:00        1         -6  \n",
       "2021-05-31 22:00:00        1         -5  \n",
       "2021-05-31 23:00:00        1         -4  \n",
       "\n",
       "[38687 rows x 11 columns]"
      ],
      "text/html": "<div>\n<style scoped>\n    .dataframe tbody tr th:only-of-type {\n        vertical-align: middle;\n    }\n\n    .dataframe tbody tr th {\n        vertical-align: top;\n    }\n\n    .dataframe thead th {\n        text-align: right;\n    }\n</style>\n<table border=\"1\" class=\"dataframe\">\n  <thead>\n    <tr style=\"text-align: right;\">\n      <th></th>\n      <th>station</th>\n      <th>PM 2.5 ug/m3</th>\n      <th>tempC</th>\n      <th>windspeedKmph</th>\n      <th>winddirDegree</th>\n      <th>humidity</th>\n      <th>pressure</th>\n      <th>cloudcover</th>\n      <th>precipMM</th>\n      <th>uvIndex</th>\n      <th>DewPointC</th>\n    </tr>\n  </thead>\n  <tbody>\n    <tr>\n      <th>2017-01-01 00:00:00</th>\n      <td>صدر.منطقه3</td>\n      <td>103.0</td>\n      <td>3</td>\n      <td>5</td>\n      <td>49</td>\n      <td>62</td>\n      <td>1020</td>\n      <td>10</td>\n      <td>0.0</td>\n      <td>1</td>\n      <td>-4</td>\n    </tr>\n    <tr>\n      <th>2017-01-01 01:00:00</th>\n      <td>صدر.منطقه3</td>\n      <td>88.0</td>\n      <td>3</td>\n      <td>4</td>\n      <td>47</td>\n      <td>64</td>\n      <td>1019</td>\n      <td>13</td>\n      <td>0.0</td>\n      <td>1</td>\n      <td>-3</td>\n    </tr>\n    <tr>\n      <th>2017-01-01 02:00:00</th>\n      <td>صدر.منطقه3</td>\n      <td>77.0</td>\n      <td>3</td>\n      <td>4</td>\n      <td>45</td>\n      <td>65</td>\n      <td>1019</td>\n      <td>16</td>\n      <td>0.0</td>\n      <td>1</td>\n      <td>-3</td>\n    </tr>\n    <tr>\n      <th>2017-01-01 03:00:00</th>\n      <td>صدر.منطقه3</td>\n      <td>68.0</td>\n      <td>3</td>\n      <td>3</td>\n      <td>43</td>\n      <td>67</td>\n      <td>1018</td>\n      <td>19</td>\n      <td>0.0</td>\n      <td>1</td>\n      <td>-3</td>\n    </tr>\n    <tr>\n      <th>2017-01-01 04:00:00</th>\n      <td>صدر.منطقه3</td>\n      <td>68.0</td>\n      <td>3</td>\n      <td>3</td>\n      <td>46</td>\n      <td>69</td>\n      <td>1018</td>\n      <td>23</td>\n      <td>0.0</td>\n      <td>1</td>\n      <td>-3</td>\n    </tr>\n    <tr>\n      <th>...</th>\n      <td>...</td>\n      <td>...</td>\n      <td>...</td>\n      <td>...</td>\n      <td>...</td>\n      <td>...</td>\n      <td>...</td>\n      <td>...</td>\n      <td>...</td>\n      <td>...</td>\n      <td>...</td>\n    </tr>\n    <tr>\n      <th>2021-05-31 19:00:00</th>\n      <td>صدر.منطقه3</td>\n      <td>7.0</td>\n      <td>29</td>\n      <td>11</td>\n      <td>301</td>\n      <td>7</td>\n      <td>1007</td>\n      <td>0</td>\n      <td>0.0</td>\n      <td>1</td>\n      <td>-7</td>\n    </tr>\n    <tr>\n      <th>2021-05-31 20:00:00</th>\n      <td>صدر.منطقه3</td>\n      <td>7.0</td>\n      <td>28</td>\n      <td>9</td>\n      <td>318</td>\n      <td>7</td>\n      <td>1007</td>\n      <td>0</td>\n      <td>0.0</td>\n      <td>1</td>\n      <td>-7</td>\n    </tr>\n    <tr>\n      <th>2021-05-31 21:00:00</th>\n      <td>صدر.منطقه3</td>\n      <td>7.0</td>\n      <td>26</td>\n      <td>8</td>\n      <td>334</td>\n      <td>8</td>\n      <td>1007</td>\n      <td>0</td>\n      <td>0.0</td>\n      <td>1</td>\n      <td>-6</td>\n    </tr>\n    <tr>\n      <th>2021-05-31 22:00:00</th>\n      <td>صدر.منطقه3</td>\n      <td>7.0</td>\n      <td>27</td>\n      <td>8</td>\n      <td>335</td>\n      <td>9</td>\n      <td>1007</td>\n      <td>0</td>\n      <td>0.0</td>\n      <td>1</td>\n      <td>-5</td>\n    </tr>\n    <tr>\n      <th>2021-05-31 23:00:00</th>\n      <td>صدر.منطقه3</td>\n      <td>21.0</td>\n      <td>29</td>\n      <td>8</td>\n      <td>335</td>\n      <td>10</td>\n      <td>1007</td>\n      <td>0</td>\n      <td>0.0</td>\n      <td>1</td>\n      <td>-4</td>\n    </tr>\n  </tbody>\n</table>\n<p>38687 rows × 11 columns</p>\n</div>"
     },
     "metadata": {},
     "execution_count": 42
    }
   ],
   "source": [
    "pd.read_csv('pm_25.csv',index_col = 0)"
   ]
  }
 ]
}